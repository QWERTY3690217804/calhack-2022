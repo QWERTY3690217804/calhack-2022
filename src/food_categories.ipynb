{
 "cells": [
  {
   "cell_type": "code",
   "execution_count": 1,
   "id": "ef79b6dc-15ee-4d11-91e5-c8bd66654180",
   "metadata": {},
   "outputs": [],
   "source": [
    "import numpy as np\n",
    "\n",
    "import pandas as pd\n",
    "from pandas.api.types import CategoricalDtype\n"
   ]
  },
  {
   "cell_type": "code",
   "execution_count": 2,
   "id": "024a34d4-2df3-4877-a8cd-107f315d54ad",
   "metadata": {},
   "outputs": [],
   "source": [
    "fruits = ['apple', 'banana', 'fruit', 'fruits', 'grapes', 'kiwi', 'lemon', 'mango', 'orange', 'pear', 'pineapple', 'pomegranate', 'salad', 'sliced', 'watermelon']\n",
    "vegetables= ['beetroot', 'bellpepper', 'broccoli', 'cabbage', 'capsicum', 'carrot', 'cauliflower', 'chillipepper', 'corn', 'cucumber', 'eggplant', 'garlic', 'ginger', 'jalepeño', 'lettuce', 'onion', 'paprika', 'peas', 'potato', 'raddish', \n",
    "             'salad', 'salsa', 'soybean', 'spinach', 'sweetcorn', 'sweetpotato', 'tomato', 'turnip', 'veggie', 'vegetable']\n",
    "dairy = ['dairy', 'milk', 'yogurt', 'cheese', 'yoplait', 'cream', 'milkshake', 'whipped', 'tea', 'coffee', 'cottage']\n",
    "protein = ['egg', 'meat', 'fish', 'lamb', 'rib', 'pork', 'duck', 'chicken', 'sausage', 'peperoni', 'salami', 'ham', 'meatloaf', 'bulgogi'\n",
    "          , 'turkey']\n",
    "grains = ['bagel', 'bread', 'cereal', 'pretzel', 'croissant', 'pasta', 'spaghetti', 'rice', 'arroz', 'waffle', 'pancake', 'potato', 'fries', 'corn',\n",
    "         'nuts']\n",
    "fats = ['candy', 'chocolate', 'fat', 'oil', 'canola', 'sunflower']\n",
    "max_size = len(max(fruits, vegetables, dairy, protein, grains, fats, key=len))\n",
    "for elem in [fruits, vegetables, dairy, protein, grains, fats]:\n",
    "           elem = elem + ['N/A'] *(max_size - len(elem))\n",
    "labels = ['Fruits', 'Vegetables', 'Dairy', 'Protein', 'Grains', \"Fats\"]\n",
    "pd.DataFrame([fruits, vegetables, dairy, protein, grains, fats]).rename({i: labels[i] for i in range(len(labels))}).to_csv(\"food_categories.csv\")"
   ]
  },
  {
   "cell_type": "code",
   "execution_count": 3,
   "id": "d79cd842-e036-42f3-887d-4bfe30600888",
   "metadata": {},
   "outputs": [
    {
     "data": {
      "text/plain": [
       "30"
      ]
     },
     "execution_count": 3,
     "metadata": {},
     "output_type": "execute_result"
    }
   ],
   "source": [
    "len(vegetables)"
   ]
  },
  {
   "cell_type": "code",
   "execution_count": null,
   "id": "62b9446c-df6d-4956-aa90-3d118be4f144",
   "metadata": {},
   "outputs": [],
   "source": []
  }
 ],
 "metadata": {
  "kernelspec": {
   "display_name": "Python 3 (ipykernel)",
   "language": "python",
   "name": "python3"
  },
  "language_info": {
   "codemirror_mode": {
    "name": "ipython",
    "version": 3
   },
   "file_extension": ".py",
   "mimetype": "text/x-python",
   "name": "python",
   "nbconvert_exporter": "python",
   "pygments_lexer": "ipython3",
   "version": "3.9.0"
  }
 },
 "nbformat": 4,
 "nbformat_minor": 5
}
